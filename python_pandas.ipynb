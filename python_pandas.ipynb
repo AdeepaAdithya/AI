{
  "nbformat": 4,
  "nbformat_minor": 0,
  "metadata": {
    "colab": {
      "provenance": []
    },
    "kernelspec": {
      "name": "python3",
      "display_name": "Python 3"
    },
    "language_info": {
      "name": "python"
    }
  },
  "cells": [
    {
      "cell_type": "markdown",
      "source": [
        "import pandas is the first step and assign it to the 'pd' variable."
      ],
      "metadata": {
        "id": "erI2DVoHO8gM"
      }
    },
    {
      "cell_type": "code",
      "execution_count": null,
      "metadata": {
        "id": "72k3wk2xO0wB"
      },
      "outputs": [],
      "source": [
        "import pandas as pd"
      ]
    },
    {
      "cell_type": "markdown",
      "source": [
        "create a column and see the difference."
      ],
      "metadata": {
        "id": "EIlsnpi-PSfr"
      }
    },
    {
      "cell_type": "code",
      "source": [
        "column = [\"Mariya\",\"Batman\",\"Spongebob\"]\n",
        "#just print it to get the basic structure.\n",
        "print(column)\n",
        "print(\"----------------------------------------------------------\")\n",
        "#now assign it to the pandas.\n",
        "data = pd.DataFrame(column)\n",
        "print(data)"
      ],
      "metadata": {
        "colab": {
          "base_uri": "https://localhost:8080/"
        },
        "id": "9_uJDZ86PavE",
        "outputId": "cfba38db-37ea-472e-de4b-1ee1183bf801"
      },
      "execution_count": null,
      "outputs": [
        {
          "output_type": "stream",
          "name": "stdout",
          "text": [
            "['Mariya', 'Batman', 'Spongebob']\n",
            "----------------------------------------------------------\n",
            "           0\n",
            "0     Mariya\n",
            "1     Batman\n",
            "2  Spongebob\n"
          ]
        }
      ]
    },
    {
      "cell_type": "markdown",
      "source": [
        "So now we try to put the colum names"
      ],
      "metadata": {
        "id": "09ZQ4MaJQQD8"
      }
    },
    {
      "cell_type": "code",
      "source": [
        "title_column = {\n",
        "    \"name\":[\"Mariya\",\"Batman\",\"Spongebob\"]\n",
        "}\n",
        "data = pd.DataFrame(title_column)\n",
        "print(data)\n"
      ],
      "metadata": {
        "colab": {
          "base_uri": "https://localhost:8080/"
        },
        "id": "NfP7P08KQWeE",
        "outputId": "52687b10-5797-4418-a703-7578e59bd24f"
      },
      "execution_count": null,
      "outputs": [
        {
          "output_type": "stream",
          "name": "stdout",
          "text": [
            "        name\n",
            "0     Mariya\n",
            "1     Batman\n",
            "2  Spongebob\n"
          ]
        }
      ]
    },
    {
      "cell_type": "markdown",
      "source": [
        "Adding new columns"
      ],
      "metadata": {
        "id": "Q4sNVUD4Qr1b"
      }
    },
    {
      "cell_type": "code",
      "source": [
        "title_column = {\n",
        "    \"name\":[\"Mariya\",\"Batman\",\"Spongebob\"],\n",
        "    \"age\":[20,30,40],\n",
        "    \"height\":[1.67,1.9,0.25],\n",
        "    \"weight\":[50,50,50]\n",
        "}\n",
        "data = pd.DataFrame(title_column)\n",
        "print(data)\n",
        "#"
      ],
      "metadata": {
        "colab": {
          "base_uri": "https://localhost:8080/"
        },
        "id": "z3MIMDfIQwSr",
        "outputId": "5b9bc761-1c8f-4962-9585-8e2de1dae08a"
      },
      "execution_count": null,
      "outputs": [
        {
          "output_type": "stream",
          "name": "stdout",
          "text": [
            "        name  age  height  weight\n",
            "0     Mariya   20    1.67      50\n",
            "1     Batman   30    1.90      50\n",
            "2  Spongebob   40    0.25      50\n"
          ]
        }
      ]
    },
    {
      "cell_type": "markdown",
      "source": [
        "only get values in one column"
      ],
      "metadata": {
        "id": "ia2zx9x9RTUc"
      }
    },
    {
      "cell_type": "code",
      "source": [
        "select_column = data[\"height\"]\n",
        "print(select_column)"
      ],
      "metadata": {
        "colab": {
          "base_uri": "https://localhost:8080/"
        },
        "id": "Elq76jT9RXFt",
        "outputId": "e7a8412e-fd4b-4b7a-85a5-946a205987d2"
      },
      "execution_count": null,
      "outputs": [
        {
          "output_type": "stream",
          "name": "stdout",
          "text": [
            "0    1.67\n",
            "1    1.90\n",
            "2    0.25\n",
            "Name: height, dtype: float64\n"
          ]
        }
      ]
    },
    {
      "cell_type": "markdown",
      "source": [
        "if only need the batman height."
      ],
      "metadata": {
        "id": "ltykhw_yRjpL"
      }
    },
    {
      "cell_type": "code",
      "source": [
        "select_column = data[\"height\"][1]\n",
        "print(select_column)"
      ],
      "metadata": {
        "colab": {
          "base_uri": "https://localhost:8080/"
        },
        "id": "kHiRaX8nRvK0",
        "outputId": "40e010a2-2b72-462e-98a2-f5fc5037352b"
      },
      "execution_count": null,
      "outputs": [
        {
          "output_type": "stream",
          "name": "stdout",
          "text": [
            "1.9\n"
          ]
        }
      ]
    },
    {
      "cell_type": "markdown",
      "source": [
        "select a row"
      ],
      "metadata": {
        "id": "fB3IiXbASFi3"
      }
    },
    {
      "cell_type": "code",
      "source": [
        "select_row = data.iloc[1] #in the case of batman\n",
        "print(select_row)"
      ],
      "metadata": {
        "colab": {
          "base_uri": "https://localhost:8080/"
        },
        "id": "q-mmCPuXSHXr",
        "outputId": "42463c63-082e-4724-e851-b17286924904"
      },
      "execution_count": null,
      "outputs": [
        {
          "output_type": "stream",
          "name": "stdout",
          "text": [
            "name      Batman\n",
            "age           30\n",
            "height       1.9\n",
            "weight        50\n",
            "Name: 1, dtype: object\n"
          ]
        }
      ]
    },
    {
      "cell_type": "markdown",
      "source": [
        "if we need only the weight."
      ],
      "metadata": {
        "id": "G-wOr8_uSSor"
      }
    },
    {
      "cell_type": "code",
      "source": [
        "select_row = data.iloc[1][\"weight\"] #in the case of batman\n",
        "print(select_row)"
      ],
      "metadata": {
        "colab": {
          "base_uri": "https://localhost:8080/"
        },
        "id": "OCtc8hZtScE8",
        "outputId": "4bd26436-6976-4c00-d5a7-dfb3711d79f9"
      },
      "execution_count": null,
      "outputs": [
        {
          "output_type": "stream",
          "name": "stdout",
          "text": [
            "50\n"
          ]
        }
      ]
    },
    {
      "cell_type": "markdown",
      "source": [
        "manipulate dataframe values."
      ],
      "metadata": {
        "id": "Rda4vm59Skj7"
      }
    },
    {
      "cell_type": "code",
      "source": [
        "bmi = [] # weight/(height ** 2)\n",
        "for i in range(len(data)):\n",
        "    bmi.append(data[\"weight\"][i]/(data.iloc[i][\"height\"]**2))\n",
        "data[\"bmi\"] = bmi\n",
        "print(data)"
      ],
      "metadata": {
        "colab": {
          "base_uri": "https://localhost:8080/"
        },
        "id": "Z_pH3heSSra8",
        "outputId": "430089ad-bee6-40e0-ad5a-36f7cede3a82"
      },
      "execution_count": null,
      "outputs": [
        {
          "output_type": "stream",
          "name": "stdout",
          "text": [
            "        name  age  height  weight         bmi\n",
            "0     Mariya   20    1.67      50   17.928215\n",
            "1     Batman   30    1.90      50   13.850416\n",
            "2  Spongebob   40    0.25      50  800.000000\n"
          ]
        }
      ]
    },
    {
      "cell_type": "markdown",
      "source": [
        "save the dataframe to a file"
      ],
      "metadata": {
        "id": "R8JZ6uLITw3D"
      }
    },
    {
      "cell_type": "code",
      "source": [
        "data.to_csv(\"bmi.csv\",sep=\"\\t\") #sep is use to separate the data.\n",
        "data.to_csv(\"bmi.txt\",sep=\"\\t\") #sep is use to separate the data.\n",
        "\n",
        "\n"
      ],
      "metadata": {
        "id": "71pi7p_ST7pD"
      },
      "execution_count": null,
      "outputs": []
    },
    {
      "cell_type": "markdown",
      "source": [
        "load them from a csv file."
      ],
      "metadata": {
        "id": "CZhjs1nkUxmT"
      }
    },
    {
      "cell_type": "code",
      "source": [
        "data = pd.read_csv(\"bmi.csv\", sep=\"\\t\")\n",
        "print(data)"
      ],
      "metadata": {
        "colab": {
          "base_uri": "https://localhost:8080/"
        },
        "id": "IVm6JzDEU1HD",
        "outputId": "23354325-3aa6-47d4-b3ef-ef561e8b59ac"
      },
      "execution_count": null,
      "outputs": [
        {
          "output_type": "stream",
          "name": "stdout",
          "text": [
            "   Unnamed: 0       name  age  height  weight         bmi\n",
            "0           0     Mariya   20    1.67      50   17.928215\n",
            "1           1     Batman   30    1.90      50   13.850416\n",
            "2           2  Spongebob   40    0.25      50  800.000000\n"
          ]
        }
      ]
    },
    {
      "cell_type": "markdown",
      "source": [
        "remove the first column"
      ],
      "metadata": {
        "id": "z7lxPETPVJKs"
      }
    },
    {
      "cell_type": "code",
      "source": [
        "data = pd.read_csv(\"bmi.csv\",index_col = False, sep=\"\\t\")\n",
        "print(data)"
      ],
      "metadata": {
        "colab": {
          "base_uri": "https://localhost:8080/"
        },
        "id": "GqyjiSnAVP8D",
        "outputId": "bb1d1c95-5df2-44e5-c1f0-2e5abbd92aa1"
      },
      "execution_count": null,
      "outputs": [
        {
          "output_type": "stream",
          "name": "stdout",
          "text": [
            "   Unnamed: 0       name  age  height  weight         bmi\n",
            "0           0     Mariya   20    1.67      50   17.928215\n",
            "1           1     Batman   30    1.90      50   13.850416\n",
            "2           2  Spongebob   40    0.25      50  800.000000\n"
          ]
        }
      ]
    },
    {
      "cell_type": "markdown",
      "source": [
        "This can be connect to sql database as well but i am not going to code that here."
      ],
      "metadata": {
        "id": "WpY47npLV7t7"
      }
    },
    {
      "cell_type": "markdown",
      "source": [
        "next"
      ],
      "metadata": {
        "id": "jOuHmuwiWN-k"
      }
    },
    {
      "cell_type": "markdown",
      "source": [
        "how to print only the first 2 rows."
      ],
      "metadata": {
        "id": "LHt7TdT4WQNL"
      }
    },
    {
      "cell_type": "code",
      "source": [
        "print(data.head())# to get all values\n",
        "print(\"----------------------------------------------------------------\")\n",
        "print(data.head(2))#to get two rows each."
      ],
      "metadata": {
        "colab": {
          "base_uri": "https://localhost:8080/"
        },
        "id": "4hmtZve_WK2r",
        "outputId": "b428648d-632e-4f65-c3b8-c1873d62f01d"
      },
      "execution_count": null,
      "outputs": [
        {
          "output_type": "stream",
          "name": "stdout",
          "text": [
            "   Unnamed: 0       name  age  height  weight         bmi\n",
            "0           0     Mariya   20    1.67      50   17.928215\n",
            "1           1     Batman   30    1.90      50   13.850416\n",
            "2           2  Spongebob   40    0.25      50  800.000000\n",
            "----------------------------------------------------------------\n",
            "   Unnamed: 0    name  age  height  weight        bmi\n",
            "0           0  Mariya   20    1.67      50  17.928215\n",
            "1           1  Batman   30    1.90      50  13.850416\n"
          ]
        }
      ]
    },
    {
      "cell_type": "markdown",
      "source": [
        "if we want last 2 we have to change the code into"
      ],
      "metadata": {
        "id": "MBEqhkzCWwuB"
      }
    },
    {
      "cell_type": "code",
      "source": [],
      "metadata": {
        "id": "hIITUQ6CW_nz"
      },
      "execution_count": null,
      "outputs": []
    },
    {
      "cell_type": "code",
      "source": [
        "print(data.tail())# to get all values\n",
        "print(\"----------------------------------------------------------------\")\n",
        "print(data.tail(2))#to get two rows each."
      ],
      "metadata": {
        "colab": {
          "base_uri": "https://localhost:8080/"
        },
        "outputId": "af57f376-0a5e-4543-e189-099b5ab73504",
        "id": "kzwjC0wSXCRR"
      },
      "execution_count": null,
      "outputs": [
        {
          "output_type": "stream",
          "name": "stdout",
          "text": [
            "   Unnamed: 0       name  age  height  weight         bmi\n",
            "0           0     Mariya   20    1.67      50   17.928215\n",
            "1           1     Batman   30    1.90      50   13.850416\n",
            "2           2  Spongebob   40    0.25      50  800.000000\n",
            "----------------------------------------------------------------\n",
            "   Unnamed: 0       name  age  height  weight         bmi\n",
            "1           1     Batman   30    1.90      50   13.850416\n",
            "2           2  Spongebob   40    0.25      50  800.000000\n"
          ]
        }
      ]
    },
    {
      "cell_type": "markdown",
      "source": [
        "filter the data"
      ],
      "metadata": {
        "id": "7kD16K-kXLbD"
      }
    },
    {
      "cell_type": "code",
      "source": [
        "filter = data[data[\"age\"] == 20]\n",
        "print(filter)"
      ],
      "metadata": {
        "colab": {
          "base_uri": "https://localhost:8080/"
        },
        "id": "XHGKN7VNXYjs",
        "outputId": "6d090895-37fd-4359-d38a-b31209119288"
      },
      "execution_count": null,
      "outputs": [
        {
          "output_type": "stream",
          "name": "stdout",
          "text": [
            "   Unnamed: 0    name  age  height  weight        bmi\n",
            "0           0  Mariya   20    1.67      50  17.928215\n"
          ]
        }
      ]
    },
    {
      "cell_type": "markdown",
      "source": [
        "replace data entries"
      ],
      "metadata": {
        "id": "K-6JomV1X9Pj"
      }
    },
    {
      "cell_type": "code",
      "source": [
        "replaced_data = data.replace(\"Mariya\",\"Mariya2\")\n",
        "print(replaced_data)"
      ],
      "metadata": {
        "colab": {
          "base_uri": "https://localhost:8080/"
        },
        "id": "B8oCDqzXYA5D",
        "outputId": "b5656da9-b13e-4df7-ea1f-58a3c7773241"
      },
      "execution_count": null,
      "outputs": [
        {
          "output_type": "stream",
          "name": "stdout",
          "text": [
            "   Unnamed: 0       name  age  height  weight         bmi\n",
            "0           0    Mariya2   20    1.67      50   17.928215\n",
            "1           1     Batman   30    1.90      50   13.850416\n",
            "2           2  Spongebob   40    0.25      50  800.000000\n"
          ]
        }
      ]
    },
    {
      "cell_type": "markdown",
      "source": [
        "remove data."
      ],
      "metadata": {
        "id": "ROUVZdq6YWiz"
      }
    },
    {
      "cell_type": "code",
      "source": [
        "remove_column = data.drop(\"bmi\",axis = 1)\n",
        "print(remove_column)\n",
        "print(\"---------------------------------------------------------------\")\n",
        "remove_column = data.drop([\"height\",\"weight\"],axis = 1)\n",
        "print(remove_column)\n",
        "print(\"---------------------------------------------------------------\")\n",
        "remove_row = data.iloc[0:2]\n",
        "print(remove_row)\n",
        "print(\"---------------------------------------------------------------\")\n",
        "print(data)"
      ],
      "metadata": {
        "colab": {
          "base_uri": "https://localhost:8080/"
        },
        "id": "l3gftQ0eYYUi",
        "outputId": "c48c56b0-a3ec-4e91-9a46-3e73497ed78c"
      },
      "execution_count": null,
      "outputs": [
        {
          "output_type": "stream",
          "name": "stdout",
          "text": [
            "   Unnamed: 0       name  age  height  weight\n",
            "0           0     Mariya   20    1.67      50\n",
            "1           1     Batman   30    1.90      50\n",
            "2           2  Spongebob   40    0.25      50\n",
            "---------------------------------------------------------------\n",
            "   Unnamed: 0       name  age         bmi\n",
            "0           0     Mariya   20   17.928215\n",
            "1           1     Batman   30   13.850416\n",
            "2           2  Spongebob   40  800.000000\n",
            "---------------------------------------------------------------\n",
            "   Unnamed: 0    name  age  height  weight        bmi\n",
            "0           0  Mariya   20    1.67      50  17.928215\n",
            "1           1  Batman   30    1.90      50  13.850416\n",
            "---------------------------------------------------------------\n",
            "   Unnamed: 0       name  age  height  weight         bmi\n",
            "0           0     Mariya   20    1.67      50   17.928215\n",
            "1           1     Batman   30    1.90      50   13.850416\n",
            "2           2  Spongebob   40    0.25      50  800.000000\n"
          ]
        }
      ]
    },
    {
      "cell_type": "markdown",
      "source": [
        "add new rows"
      ],
      "metadata": {
        "id": "hJya0XLKZqAL"
      }
    },
    {
      "cell_type": "code",
      "source": [
        "row = {\n",
        "    \"name\": \"aag\",\n",
        "    \"age\":20,\n",
        "    \"height\":1.23,\n",
        "    \"weight\":100,\n",
        "    \"bmi\":1.2356\n",
        "}\n",
        "new_row_df = pd.DataFrame([row])\n",
        "new = pd.concat([data, new_row_df], ignore_index=True)\n",
        "print(new)"
      ],
      "metadata": {
        "colab": {
          "base_uri": "https://localhost:8080/"
        },
        "id": "GgSxLhcBZsGr",
        "outputId": "a562fe03-c940-43bb-98a0-13ee922e2d09"
      },
      "execution_count": null,
      "outputs": [
        {
          "output_type": "stream",
          "name": "stdout",
          "text": [
            "   Unnamed: 0       name  age  height  weight         bmi\n",
            "0         0.0     Mariya   20    1.67      50   17.928215\n",
            "1         1.0     Batman   30    1.90      50   13.850416\n",
            "2         2.0  Spongebob   40    0.25      50  800.000000\n",
            "3         NaN        aag   20    1.23     100    1.235600\n"
          ]
        }
      ]
    },
    {
      "cell_type": "markdown",
      "source": [
        "remove duplicates"
      ],
      "metadata": {
        "id": "MAlXRderbl1r"
      }
    },
    {
      "cell_type": "code",
      "source": [
        "new = new.drop_duplicates(subset = [\"name\"])\n",
        "print(\"now the row count is \",len(new))"
      ],
      "metadata": {
        "colab": {
          "base_uri": "https://localhost:8080/"
        },
        "id": "4v_ysEFjbr9z",
        "outputId": "cabf143f-165a-41bb-e241-ae3d38e66a7e"
      },
      "execution_count": null,
      "outputs": [
        {
          "output_type": "stream",
          "name": "stdout",
          "text": [
            "now the row count is  4\n"
          ]
        }
      ]
    }
  ]
}