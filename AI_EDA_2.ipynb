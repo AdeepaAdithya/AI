{
  "nbformat": 4,
  "nbformat_minor": 0,
  "metadata": {
    "colab": {
      "provenance": []
    },
    "kernelspec": {
      "name": "python3",
      "display_name": "Python 3"
    },
    "language_info": {
      "name": "python"
    }
  },
  "cells": [
    {
      "cell_type": "code",
      "execution_count": null,
      "metadata": {
        "id": "NSacQbUEtI6E"
      },
      "outputs": [],
      "source": [
        "import pandas as pd #pd is just a variable.\n",
        "url = \"https://raw.githubusercontent.com/datasciencedojo/datasets/master/titanic.csv\"\n",
        "titanic_df = pd.read_csv(url)"
      ]
    },
    {
      "cell_type": "code",
      "source": [
        "print(titanic_df) #get the dataset\n",
        "\n"
      ],
      "metadata": {
        "colab": {
          "base_uri": "https://localhost:8080/"
        },
        "id": "74ScaoQouMxu",
        "outputId": "6c613ab8-dada-4884-8336-cbfebe388ddf"
      },
      "execution_count": null,
      "outputs": [
        {
          "output_type": "stream",
          "name": "stdout",
          "text": [
            "     PassengerId  Survived  Pclass  \\\n",
            "0              1         0       3   \n",
            "1              2         1       1   \n",
            "2              3         1       3   \n",
            "3              4         1       1   \n",
            "4              5         0       3   \n",
            "..           ...       ...     ...   \n",
            "886          887         0       2   \n",
            "887          888         1       1   \n",
            "888          889         0       3   \n",
            "889          890         1       1   \n",
            "890          891         0       3   \n",
            "\n",
            "                                                  Name     Sex   Age  SibSp  \\\n",
            "0                              Braund, Mr. Owen Harris    male  22.0      1   \n",
            "1    Cumings, Mrs. John Bradley (Florence Briggs Th...  female  38.0      1   \n",
            "2                               Heikkinen, Miss. Laina  female  26.0      0   \n",
            "3         Futrelle, Mrs. Jacques Heath (Lily May Peel)  female  35.0      1   \n",
            "4                             Allen, Mr. William Henry    male  35.0      0   \n",
            "..                                                 ...     ...   ...    ...   \n",
            "886                              Montvila, Rev. Juozas    male  27.0      0   \n",
            "887                       Graham, Miss. Margaret Edith  female  19.0      0   \n",
            "888           Johnston, Miss. Catherine Helen \"Carrie\"  female   NaN      1   \n",
            "889                              Behr, Mr. Karl Howell    male  26.0      0   \n",
            "890                                Dooley, Mr. Patrick    male  32.0      0   \n",
            "\n",
            "     Parch            Ticket     Fare Cabin Embarked  \n",
            "0        0         A/5 21171   7.2500   NaN        S  \n",
            "1        0          PC 17599  71.2833   C85        C  \n",
            "2        0  STON/O2. 3101282   7.9250   NaN        S  \n",
            "3        0            113803  53.1000  C123        S  \n",
            "4        0            373450   8.0500   NaN        S  \n",
            "..     ...               ...      ...   ...      ...  \n",
            "886      0            211536  13.0000   NaN        S  \n",
            "887      0            112053  30.0000   B42        S  \n",
            "888      2        W./C. 6607  23.4500   NaN        S  \n",
            "889      0            111369  30.0000  C148        C  \n",
            "890      0            370376   7.7500   NaN        Q  \n",
            "\n",
            "[891 rows x 12 columns]\n"
          ]
        }
      ]
    },
    {
      "cell_type": "markdown",
      "source": [
        "get the information about the dataset."
      ],
      "metadata": {
        "id": "KY3Aci71uXn8"
      }
    },
    {
      "cell_type": "code",
      "source": [
        "print(titanic_df.info()) #get the details about the dataset."
      ],
      "metadata": {
        "colab": {
          "base_uri": "https://localhost:8080/"
        },
        "id": "554YReRhuPDS",
        "outputId": "f756db8b-a6c3-4635-85b3-c03392df5dee"
      },
      "execution_count": null,
      "outputs": [
        {
          "output_type": "stream",
          "name": "stdout",
          "text": [
            "<class 'pandas.core.frame.DataFrame'>\n",
            "RangeIndex: 891 entries, 0 to 890\n",
            "Data columns (total 12 columns):\n",
            " #   Column       Non-Null Count  Dtype  \n",
            "---  ------       --------------  -----  \n",
            " 0   PassengerId  891 non-null    int64  \n",
            " 1   Survived     891 non-null    int64  \n",
            " 2   Pclass       891 non-null    int64  \n",
            " 3   Name         891 non-null    object \n",
            " 4   Sex          891 non-null    object \n",
            " 5   Age          714 non-null    float64\n",
            " 6   SibSp        891 non-null    int64  \n",
            " 7   Parch        891 non-null    int64  \n",
            " 8   Ticket       891 non-null    object \n",
            " 9   Fare         891 non-null    float64\n",
            " 10  Cabin        204 non-null    object \n",
            " 11  Embarked     889 non-null    object \n",
            "dtypes: float64(2), int64(5), object(5)\n",
            "memory usage: 83.7+ KB\n",
            "None\n"
          ]
        }
      ]
    },
    {
      "cell_type": "markdown",
      "source": [
        "Data profiling."
      ],
      "metadata": {
        "id": "hii_yMqrug3U"
      }
    },
    {
      "cell_type": "code",
      "source": [
        "print(\"missing values\")\n",
        "print(titanic_df.isnull().sum()) # this shows how many null values are there for each column."
      ],
      "metadata": {
        "colab": {
          "base_uri": "https://localhost:8080/"
        },
        "id": "rfn60geiupzb",
        "outputId": "a44419c8-8c06-4723-ab0b-49301cd8eb9d"
      },
      "execution_count": null,
      "outputs": [
        {
          "output_type": "stream",
          "name": "stdout",
          "text": [
            "missing values\n",
            "PassengerId      0\n",
            "Survived         0\n",
            "Pclass           0\n",
            "Name             0\n",
            "Sex              0\n",
            "Age            177\n",
            "SibSp            0\n",
            "Parch            0\n",
            "Ticket           0\n",
            "Fare             0\n",
            "Cabin          687\n",
            "Embarked         2\n",
            "dtype: int64\n"
          ]
        }
      ]
    },
    {
      "cell_type": "markdown",
      "source": [
        "Why are we finding null values?\n",
        "if the data is empty the data isn't useful.\n",
        "for example the cabin column:\n",
        "total data rows: 890\n",
        "null rows:687.\n"
      ],
      "metadata": {
        "id": "cpNmpQjTu77x"
      }
    },
    {
      "cell_type": "markdown",
      "source": [
        "get a list of age"
      ],
      "metadata": {
        "id": "fgtaspGnwoMR"
      }
    },
    {
      "cell_type": "code",
      "source": [
        "print(titanic_df['Age'])"
      ],
      "metadata": {
        "colab": {
          "base_uri": "https://localhost:8080/"
        },
        "id": "2QukwW3BwqY5",
        "outputId": "d487f936-9da7-4f18-f691-bce1de6f1971"
      },
      "execution_count": null,
      "outputs": [
        {
          "output_type": "stream",
          "name": "stdout",
          "text": [
            "0      22.0\n",
            "1      38.0\n",
            "2      26.0\n",
            "3      35.0\n",
            "4      35.0\n",
            "       ... \n",
            "886    27.0\n",
            "887    19.0\n",
            "888     NaN\n",
            "889    26.0\n",
            "890    32.0\n",
            "Name: Age, Length: 891, dtype: float64\n"
          ]
        }
      ]
    },
    {
      "cell_type": "markdown",
      "source": [
        "How to calculate the mean."
      ],
      "metadata": {
        "id": "qcsdmwfJv00d"
      }
    },
    {
      "cell_type": "code",
      "source": [
        "print(\"MEAN\") #age\n",
        "print(titanic_df[\"Age\"].mean())\n"
      ],
      "metadata": {
        "colab": {
          "base_uri": "https://localhost:8080/"
        },
        "id": "sb1V2gDlvo6A",
        "outputId": "46e56fd6-d004-43d9-9633-a709e8fecfcb"
      },
      "execution_count": null,
      "outputs": [
        {
          "output_type": "stream",
          "name": "stdout",
          "text": [
            "MEAN\n",
            "29.69911764705882\n"
          ]
        }
      ]
    },
    {
      "cell_type": "markdown",
      "source": [
        "mean for the fair"
      ],
      "metadata": {
        "id": "IQL6ZzrExBmN"
      }
    },
    {
      "cell_type": "code",
      "source": [
        "print(titanic_df[\"Fare\"].mean())"
      ],
      "metadata": {
        "colab": {
          "base_uri": "https://localhost:8080/"
        },
        "id": "WhwpOwV1xDkg",
        "outputId": "30cd4620-6d21-4f74-9b5a-de550de754be"
      },
      "execution_count": null,
      "outputs": [
        {
          "output_type": "stream",
          "name": "stdout",
          "text": [
            "32.204207968574636\n"
          ]
        }
      ]
    },
    {
      "cell_type": "markdown",
      "source": [
        "How to calculate the midian."
      ],
      "metadata": {
        "id": "T6U3EIElwSao"
      }
    },
    {
      "cell_type": "code",
      "source": [
        "print(\"median\") #median\n",
        "print(titanic_df[\"Age\"].median())\n",
        "print(\"------------------------------------------\")\n",
        "print(titanic_df[\"Fare\"].median())"
      ],
      "metadata": {
        "colab": {
          "base_uri": "https://localhost:8080/"
        },
        "id": "uEdF5d9jwXS1",
        "outputId": "3ad89dbf-db90-443b-e0e0-d282859caa56"
      },
      "execution_count": null,
      "outputs": [
        {
          "output_type": "stream",
          "name": "stdout",
          "text": [
            "median\n",
            "28.0\n",
            "------------------------------------------\n",
            "14.4542\n"
          ]
        }
      ]
    },
    {
      "cell_type": "markdown",
      "source": [
        "Mean age is > Median age that could be because there are few older passengers."
      ],
      "metadata": {
        "id": "Hu24iVzLzIpl"
      }
    },
    {
      "cell_type": "markdown",
      "source": [
        "Mean fair is < median fair. so the graph is skew to the right side."
      ],
      "metadata": {
        "id": "VlySUJeozS0_"
      }
    },
    {
      "cell_type": "markdown",
      "source": [
        "How to calculate the mode."
      ],
      "metadata": {
        "id": "98MfpcnLw09a"
      }
    },
    {
      "cell_type": "code",
      "source": [
        "print(\"mode\") #mode\n",
        "print(titanic_df[\"Age\"].mode())\n",
        "print(\"------------------------------------------\")\n",
        "print(titanic_df[\"Fare\"].mode())"
      ],
      "metadata": {
        "colab": {
          "base_uri": "https://localhost:8080/"
        },
        "id": "UJb1Y8GIw4zw",
        "outputId": "ede7b632-b1d2-4d62-8027-900331429741"
      },
      "execution_count": null,
      "outputs": [
        {
          "output_type": "stream",
          "name": "stdout",
          "text": [
            "mode\n",
            "0    24.0\n",
            "Name: Age, dtype: float64\n",
            "------------------------------------------\n",
            "0    8.05\n",
            "Name: Fare, dtype: float64\n"
          ]
        }
      ]
    },
    {
      "cell_type": "markdown",
      "source": [
        "how to find the ship has most male or female passengers."
      ],
      "metadata": {
        "id": "Bk0OIL3CyA3u"
      }
    },
    {
      "cell_type": "code",
      "source": [
        "print(\"Most common embarked port: \",titanic_df['Embarked'].mode()[0])#mode\n",
        "print(\"Most comman gender: \",titanic_df['Sex'].mode()[0])\n"
      ],
      "metadata": {
        "colab": {
          "base_uri": "https://localhost:8080/"
        },
        "id": "Q05aNYky0fzy",
        "outputId": "f63d4cfd-6383-4c6c-ef18-37102e13ffbe"
      },
      "execution_count": null,
      "outputs": [
        {
          "output_type": "stream",
          "name": "stdout",
          "text": [
            "Most common embarked port:  S\n",
            "Most comman gender:  male\n"
          ]
        }
      ]
    },
    {
      "cell_type": "markdown",
      "source": [
        "Data Visualization"
      ],
      "metadata": {
        "id": "IBustC7W1oI8"
      }
    },
    {
      "cell_type": "code",
      "source": [
        "import matplotlib.pyplot as plt\n"
      ],
      "metadata": {
        "id": "nbPcDxIO1rMP"
      },
      "execution_count": null,
      "outputs": []
    },
    {
      "cell_type": "code",
      "source": [
        "print(titanic_df.Survived)"
      ],
      "metadata": {
        "colab": {
          "base_uri": "https://localhost:8080/"
        },
        "id": "CY04dW5119t3",
        "outputId": "b8c47cea-3ff7-4606-bc7e-2e71760f7bff"
      },
      "execution_count": null,
      "outputs": [
        {
          "output_type": "stream",
          "name": "stdout",
          "text": [
            "0      0\n",
            "1      1\n",
            "2      1\n",
            "3      1\n",
            "4      0\n",
            "      ..\n",
            "886    0\n",
            "887    1\n",
            "888    0\n",
            "889    1\n",
            "890    0\n",
            "Name: Survived, Length: 891, dtype: int64\n"
          ]
        }
      ]
    },
    {
      "cell_type": "code",
      "source": [
        "print(titanic_df.Survived.value_counts())"
      ],
      "metadata": {
        "colab": {
          "base_uri": "https://localhost:8080/"
        },
        "id": "-foxFue32EDj",
        "outputId": "bb8c40f9-9035-4623-cfff-3283e55180d9"
      },
      "execution_count": null,
      "outputs": [
        {
          "output_type": "stream",
          "name": "stdout",
          "text": [
            "Survived\n",
            "0    549\n",
            "1    342\n",
            "Name: count, dtype: int64\n"
          ]
        }
      ]
    },
    {
      "cell_type": "code",
      "source": [
        "count = titanic_df.Survived.value_counts()\n",
        "count.plot(kind='bar', alpha = .5)\n",
        "plt.title('Survived')\n",
        "plt.xlabel('Survived or not')\n",
        "plt.ylabel(' passenger Count')\n",
        "plt.show()"
      ],
      "metadata": {
        "colab": {
          "base_uri": "https://localhost:8080/",
          "height": 467
        },
        "id": "i7X2oxiX4jR2",
        "outputId": "6f64164d-98ab-472b-9368-4182e725e5d7"
      },
      "execution_count": null,
      "outputs": [
        {
          "output_type": "display_data",
          "data": {
            "text/plain": [
              "<Figure size 640x480 with 1 Axes>"
            ],
            "image/png": "[encoded data removed]"
          },
          "metadata": {}
        }
      ]
    },
    {
      "cell_type": "markdown",
      "source": [
        "another library."
      ],
      "metadata": {
        "id": "0suxY4vj4VKQ"
      }
    },
    {
      "cell_type": "code",
      "source": [
        "import seaborn as sns #import lib"
      ],
      "metadata": {
        "id": "suU7wvVd4JJ7"
      },
      "execution_count": null,
      "outputs": []
    },
    {
      "cell_type": "markdown",
      "source": [
        "Draw the graph."
      ],
      "metadata": {
        "id": "Xi3KXXEk6USP"
      }
    },
    {
      "cell_type": "code",
      "source": [
        "sns.countplot(x='Sex', hue='Survived', data=titanic_df)\n",
        "plt.title(\"survived count by gender.\")\n",
        "plt.xlabel(\"gender\")\n",
        "plt.ylabel(\"passenger count\")\n",
        "plt.legend(title='Survived',labels=['No','Yes'])\n",
        "plt.show()"
      ],
      "metadata": {
        "colab": {
          "base_uri": "https://localhost:8080/",
          "height": 472
        },
        "id": "hautFH004Z07",
        "outputId": "bd38481e-3647-41ae-fd4b-aa994fbcd46f"
      },
      "execution_count": null,
      "outputs": [
        {
          "output_type": "display_data",
          "data": {
            "text/plain": [
              "<Figure size 640x480 with 1 Axes>"
            ],
            "image/png": "[encoded data removed]"
          },
          "metadata": {}
        }
      ]
    },
    {
      "cell_type": "markdown",
      "source": [
        "survived by the age group"
      ],
      "metadata": {
        "id": "CrHmiypr65Lk"
      }
    },
    {
      "cell_type": "code",
      "source": [
        "print(titanic_df['Age'])"
      ],
      "metadata": {
        "colab": {
          "base_uri": "https://localhost:8080/"
        },
        "id": "CMfea3rz7K7d",
        "outputId": "ce382cae-a46b-466b-dc59-a147debf9533"
      },
      "execution_count": null,
      "outputs": [
        {
          "output_type": "stream",
          "name": "stdout",
          "text": [
            "0      22.0\n",
            "1      38.0\n",
            "2      26.0\n",
            "3      35.0\n",
            "4      35.0\n",
            "       ... \n",
            "886    27.0\n",
            "887    19.0\n",
            "888     NaN\n",
            "889    26.0\n",
            "890    32.0\n",
            "Name: Age, Length: 891, dtype: float64\n"
          ]
        }
      ]
    },
    {
      "cell_type": "markdown",
      "source": [
        "need to do some formatting."
      ],
      "metadata": {
        "id": "fCMHn2Vi7T79"
      }
    },
    {
      "cell_type": "code",
      "source": [
        "titanic_df['Age_group'] = pd.cut(titanic_df['Age'],bins=[0,12,18,40,60,80],labels=['child','teen','adult','senior','old'])\n",
        "sns.countplot(x='Age_group', hue='Survived', data=titanic_df)\n",
        "plt.title(\"survived count by age.\")\n",
        "plt.xlabel(\"Age Group\")\n",
        "plt.ylabel(\"passenger count\")\n",
        "plt.legend(title='Survived',labels=['No','Yes'])\n",
        "plt.show()"
      ],
      "metadata": {
        "colab": {
          "base_uri": "https://localhost:8080/",
          "height": 472
        },
        "id": "uQ0f4HOK7YH6",
        "outputId": "8730e377-18f3-43fe-fffd-d27f0cc94e99"
      },
      "execution_count": null,
      "outputs": [
        {
          "output_type": "display_data",
          "data": {
            "text/plain": [
              "<Figure size 640x480 with 1 Axes>"
            ],
            "image/png": "[encoded data removed]"
          },
          "metadata": {}
        }
      ]
    },
    {
      "cell_type": "markdown",
      "source": [
        "Data analizing  using the class."
      ],
      "metadata": {
        "id": "aYn_z_Lt-e2s"
      }
    },
    {
      "cell_type": "code",
      "source": [
        "sns.countplot(x='Pclass', hue='Survived', data=titanic_df)\n",
        "plt.title(\"survived count by Class.\")\n",
        "plt.xlabel(\"passenger class(1=First class)\")\n",
        "plt.ylabel(\"passenger count\")\n",
        "plt.legend(title='Survived',labels=['No','Yes'])\n",
        "plt.show()"
      ],
      "metadata": {
        "colab": {
          "base_uri": "https://localhost:8080/",
          "height": 472
        },
        "id": "puI7KpQr-qA-",
        "outputId": "1c8a0c67-30d7-4d87-f9ef-7f0a656f3bd2"
      },
      "execution_count": null,
      "outputs": [
        {
          "output_type": "display_data",
          "data": {
            "text/plain": [
              "<Figure size 640x480 with 1 Axes>"
            ],
            "image/png": "[encoded data removed]"
          },
          "metadata": {}
        }
      ]
    },
    {
      "cell_type": "markdown",
      "source": [
        "h.w:- create a report.\n",
        "\n",
        "*   find the public dataset or seaborn dataset\n",
        "*   real world datasewt\n",
        "\n",
        "\n"
      ],
      "metadata": {
        "id": "WAMaDn9l_ckN"
      }
    },
    {
      "cell_type": "code",
      "source": [],
      "metadata": {
        "id": "Nvl8TtLb_zNW"
      },
      "execution_count": null,
      "outputs": []
    }
  ]
}