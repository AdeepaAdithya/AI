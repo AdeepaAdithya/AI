{
  "nbformat": 4,
  "nbformat_minor": 0,
  "metadata": {
    "colab": {
      "provenance": []
    },
    "kernelspec": {
      "name": "python3",
      "display_name": "Python 3"
    },
    "language_info": {
      "name": "python"
    }
  },
  "cells": [
    {
      "cell_type": "code",
      "execution_count": 65,
      "metadata": {
        "id": "hq7tnG_QVgUE"
      },
      "outputs": [],
      "source": [
        "import pandas as pd\n",
        "import matplotlib.pyplot as plt\n",
        "import seaborn as sns"
      ]
    },
    {
      "cell_type": "code",
      "source": [
        "data_f = sns.load_dataset('titanic')"
      ],
      "metadata": {
        "id": "JDWaGKA0V_FQ"
      },
      "execution_count": 66,
      "outputs": []
    },
    {
      "cell_type": "code",
      "source": [
        "print(data_f.head(5))"
      ],
      "metadata": {
        "colab": {
          "base_uri": "https://localhost:8080/"
        },
        "id": "5_5dvKc_XB2-",
        "outputId": "c913e74b-350f-4dee-ef19-55117155e8d5"
      },
      "execution_count": 67,
      "outputs": [
        {
          "output_type": "stream",
          "name": "stdout",
          "text": [
            "   survived  pclass     sex   age  sibsp  parch     fare embarked  class  \\\n",
            "0         0       3    male  22.0      1      0   7.2500        S  Third   \n",
            "1         1       1  female  38.0      1      0  71.2833        C  First   \n",
            "2         1       3  female  26.0      0      0   7.9250        S  Third   \n",
            "3         1       1  female  35.0      1      0  53.1000        S  First   \n",
            "4         0       3    male  35.0      0      0   8.0500        S  Third   \n",
            "\n",
            "     who  adult_male deck  embark_town alive  alone  \n",
            "0    man        True  NaN  Southampton    no  False  \n",
            "1  woman       False    C    Cherbourg   yes  False  \n",
            "2  woman       False  NaN  Southampton   yes   True  \n",
            "3  woman       False    C  Southampton   yes  False  \n",
            "4    man        True  NaN  Southampton    no   True  \n"
          ]
        }
      ]
    },
    {
      "cell_type": "code",
      "source": [
        "print(data_f['age'].isnull().sum())\n",
        "print(\"-------------------------------------------------------------------------\")\n",
        "print(data_f.isnull().sum())"
      ],
      "metadata": {
        "colab": {
          "base_uri": "https://localhost:8080/"
        },
        "id": "v5mZraE6XHgp",
        "outputId": "0e436427-233f-44aa-9bae-d797f2a93e2d"
      },
      "execution_count": 68,
      "outputs": [
        {
          "output_type": "stream",
          "name": "stdout",
          "text": [
            "177\n",
            "-------------------------------------------------------------------------\n",
            "survived         0\n",
            "pclass           0\n",
            "sex              0\n",
            "age            177\n",
            "sibsp            0\n",
            "parch            0\n",
            "fare             0\n",
            "embarked         2\n",
            "class            0\n",
            "who              0\n",
            "adult_male       0\n",
            "deck           688\n",
            "embark_town      2\n",
            "alive            0\n",
            "alone            0\n",
            "dtype: int64\n"
          ]
        }
      ]
    },
    {
      "cell_type": "code",
      "source": [
        "print(data_f.describe())"
      ],
      "metadata": {
        "colab": {
          "base_uri": "https://localhost:8080/"
        },
        "id": "IjKm6pmKXllT",
        "outputId": "e94f82c0-e20a-45c9-8f52-9db3fe849151"
      },
      "execution_count": 69,
      "outputs": [
        {
          "output_type": "stream",
          "name": "stdout",
          "text": [
            "         survived      pclass         age       sibsp       parch        fare\n",
            "count  891.000000  891.000000  714.000000  891.000000  891.000000  891.000000\n",
            "mean     0.383838    2.308642   29.699118    0.523008    0.381594   32.204208\n",
            "std      0.486592    0.836071   14.526497    1.102743    0.806057   49.693429\n",
            "min      0.000000    1.000000    0.420000    0.000000    0.000000    0.000000\n",
            "25%      0.000000    2.000000   20.125000    0.000000    0.000000    7.910400\n",
            "50%      0.000000    3.000000   28.000000    0.000000    0.000000   14.454200\n",
            "75%      1.000000    3.000000   38.000000    1.000000    0.000000   31.000000\n",
            "max      1.000000    3.000000   80.000000    8.000000    6.000000  512.329200\n"
          ]
        }
      ]
    },
    {
      "cell_type": "code",
      "source": [
        "data_f['age'].fillna(data_f['age'].mean(), inplace=True)"
      ],
      "metadata": {
        "colab": {
          "base_uri": "https://localhost:8080/"
        },
        "id": "34QEZb2jX6xb",
        "outputId": "825b9ec8-14ab-4309-9f53-5fe09e0dd378"
      },
      "execution_count": 70,
      "outputs": [
        {
          "output_type": "stream",
          "name": "stderr",
          "text": [
            "/tmp/ipython-input-70-2073183763.py:1: FutureWarning: A value is trying to be set on a copy of a DataFrame or Series through chained assignment using an inplace method.\n",
            "The behavior will change in pandas 3.0. This inplace method will never work because the intermediate object on which we are setting values always behaves as a copy.\n",
            "\n",
            "For example, when doing 'df[col].method(value, inplace=True)', try using 'df.method({col: value}, inplace=True)' or df[col] = df[col].method(value) instead, to perform the operation inplace on the original object.\n",
            "\n",
            "\n",
            "  data_f['age'].fillna(data_f['age'].mean(), inplace=True)\n"
          ]
        }
      ]
    },
    {
      "cell_type": "code",
      "source": [
        "print(data_f.isnull().sum())"
      ],
      "metadata": {
        "colab": {
          "base_uri": "https://localhost:8080/"
        },
        "id": "eqUBjiHKYtxo",
        "outputId": "1a6a91c5-d460-4510-a72e-5868c5c13f7c"
      },
      "execution_count": 71,
      "outputs": [
        {
          "output_type": "stream",
          "name": "stdout",
          "text": [
            "survived         0\n",
            "pclass           0\n",
            "sex              0\n",
            "age              0\n",
            "sibsp            0\n",
            "parch            0\n",
            "fare             0\n",
            "embarked         2\n",
            "class            0\n",
            "who              0\n",
            "adult_male       0\n",
            "deck           688\n",
            "embark_town      2\n",
            "alive            0\n",
            "alone            0\n",
            "dtype: int64\n"
          ]
        }
      ]
    },
    {
      "cell_type": "code",
      "source": [
        "#print(data_f['embarked'].mode()[0])\n",
        "data_f['embarked'].fillna(data_f['embarked'].mode()[0], inplace=True)"
      ],
      "metadata": {
        "colab": {
          "base_uri": "https://localhost:8080/"
        },
        "id": "QNixMMziZUPJ",
        "outputId": "30e541a4-2597-405f-b50d-336681942e21"
      },
      "execution_count": 72,
      "outputs": [
        {
          "output_type": "stream",
          "name": "stderr",
          "text": [
            "/tmp/ipython-input-72-3911174638.py:2: FutureWarning: A value is trying to be set on a copy of a DataFrame or Series through chained assignment using an inplace method.\n",
            "The behavior will change in pandas 3.0. This inplace method will never work because the intermediate object on which we are setting values always behaves as a copy.\n",
            "\n",
            "For example, when doing 'df[col].method(value, inplace=True)', try using 'df.method({col: value}, inplace=True)' or df[col] = df[col].method(value) instead, to perform the operation inplace on the original object.\n",
            "\n",
            "\n",
            "  data_f['embarked'].fillna(data_f['embarked'].mode()[0], inplace=True)\n"
          ]
        }
      ]
    },
    {
      "cell_type": "code",
      "source": [
        "#need to remove the null data column because there are lots of null values.\n",
        "data_f.drop('deck', axis=1, inplace=True)\n",
        "print(data_f.head(5))"
      ],
      "metadata": {
        "colab": {
          "base_uri": "https://localhost:8080/"
        },
        "id": "xMN7ms2VZ6Od",
        "outputId": "779e576d-a75e-4aef-b0fb-59b64c709f21"
      },
      "execution_count": 73,
      "outputs": [
        {
          "output_type": "stream",
          "name": "stdout",
          "text": [
            "   survived  pclass     sex   age  sibsp  parch     fare embarked  class  \\\n",
            "0         0       3    male  22.0      1      0   7.2500        S  Third   \n",
            "1         1       1  female  38.0      1      0  71.2833        C  First   \n",
            "2         1       3  female  26.0      0      0   7.9250        S  Third   \n",
            "3         1       1  female  35.0      1      0  53.1000        S  First   \n",
            "4         0       3    male  35.0      0      0   8.0500        S  Third   \n",
            "\n",
            "     who  adult_male  embark_town alive  alone  \n",
            "0    man        True  Southampton    no  False  \n",
            "1  woman       False    Cherbourg   yes  False  \n",
            "2  woman       False  Southampton   yes   True  \n",
            "3  woman       False  Southampton   yes  False  \n",
            "4    man        True  Southampton    no   True  \n"
          ]
        }
      ]
    },
    {
      "cell_type": "markdown",
      "source": [
        "feature engineering.(featuers = pclass,sex,etc)\n",
        "\n",
        "\n",
        "*   creating new features out of old features.\n",
        "\n"
      ],
      "metadata": {
        "id": "DO0kuV4laQHM"
      }
    },
    {
      "cell_type": "code",
      "source": [
        "data_f['family_size'] = data_f['sibsp'] + data_f['parch'] + 1\n",
        "print(data_f.head())"
      ],
      "metadata": {
        "colab": {
          "base_uri": "https://localhost:8080/"
        },
        "id": "MlyqaFjDaSke",
        "outputId": "4a64b009-6b3d-4fe1-a7df-ebafdce0c9c5"
      },
      "execution_count": 74,
      "outputs": [
        {
          "output_type": "stream",
          "name": "stdout",
          "text": [
            "   survived  pclass     sex   age  sibsp  parch     fare embarked  class  \\\n",
            "0         0       3    male  22.0      1      0   7.2500        S  Third   \n",
            "1         1       1  female  38.0      1      0  71.2833        C  First   \n",
            "2         1       3  female  26.0      0      0   7.9250        S  Third   \n",
            "3         1       1  female  35.0      1      0  53.1000        S  First   \n",
            "4         0       3    male  35.0      0      0   8.0500        S  Third   \n",
            "\n",
            "     who  adult_male  embark_town alive  alone  family_size  \n",
            "0    man        True  Southampton    no  False            2  \n",
            "1  woman       False    Cherbourg   yes  False            2  \n",
            "2  woman       False  Southampton   yes   True            1  \n",
            "3  woman       False  Southampton   yes  False            2  \n",
            "4    man        True  Southampton    no   True            1  \n"
          ]
        }
      ]
    },
    {
      "cell_type": "code",
      "source": [
        "data_f['isAlone'] = 1\n",
        "data_f['isAlone'].loc[data_f['family_size'] > 1] = 0\n",
        "print(data_f.head())"
      ],
      "metadata": {
        "colab": {
          "base_uri": "https://localhost:8080/"
        },
        "id": "7-wYUxXea-xw",
        "outputId": "65909762-e8ae-4f36-d1c3-8578521a517a"
      },
      "execution_count": 75,
      "outputs": [
        {
          "output_type": "stream",
          "name": "stdout",
          "text": [
            "   survived  pclass     sex   age  sibsp  parch     fare embarked  class  \\\n",
            "0         0       3    male  22.0      1      0   7.2500        S  Third   \n",
            "1         1       1  female  38.0      1      0  71.2833        C  First   \n",
            "2         1       3  female  26.0      0      0   7.9250        S  Third   \n",
            "3         1       1  female  35.0      1      0  53.1000        S  First   \n",
            "4         0       3    male  35.0      0      0   8.0500        S  Third   \n",
            "\n",
            "     who  adult_male  embark_town alive  alone  family_size  isAlone  \n",
            "0    man        True  Southampton    no  False            2        0  \n",
            "1  woman       False    Cherbourg   yes  False            2        0  \n",
            "2  woman       False  Southampton   yes   True            1        1  \n",
            "3  woman       False  Southampton   yes  False            2        0  \n",
            "4    man        True  Southampton    no   True            1        1  \n"
          ]
        },
        {
          "output_type": "stream",
          "name": "stderr",
          "text": [
            "/tmp/ipython-input-75-2666893963.py:2: FutureWarning: ChainedAssignmentError: behaviour will change in pandas 3.0!\n",
            "You are setting values through chained assignment. Currently this works in certain cases, but when using Copy-on-Write (which will become the default behaviour in pandas 3.0) this will never work to update the original DataFrame or Series, because the intermediate object on which we are setting values will behave as a copy.\n",
            "A typical example is when you are setting values in a column of a DataFrame, like:\n",
            "\n",
            "df[\"col\"][row_indexer] = value\n",
            "\n",
            "Use `df.loc[row_indexer, \"col\"] = values` instead, to perform the assignment in a single step and ensure this keeps updating the original `df`.\n",
            "\n",
            "See the caveats in the documentation: https://pandas.pydata.org/pandas-docs/stable/user_guide/indexing.html#returning-a-view-versus-a-copy\n",
            "\n",
            "  data_f['isAlone'].loc[data_f['family_size'] > 1] = 0\n",
            "/tmp/ipython-input-75-2666893963.py:2: SettingWithCopyWarning: \n",
            "A value is trying to be set on a copy of a slice from a DataFrame\n",
            "\n",
            "See the caveats in the documentation: https://pandas.pydata.org/pandas-docs/stable/user_guide/indexing.html#returning-a-view-versus-a-copy\n",
            "  data_f['isAlone'].loc[data_f['family_size'] > 1] = 0\n"
          ]
        }
      ]
    },
    {
      "cell_type": "code",
      "source": [
        "#repeat data remove(survived and the alive is the same)\n",
        "data_f.drop(['alive','who','adult_male','embark_town','sibsp','parch','alone'],axis=1,inplace=True)\n",
        "print(data_f.head())"
      ],
      "metadata": {
        "colab": {
          "base_uri": "https://localhost:8080/"
        },
        "id": "6UkBDOKhb7v6",
        "outputId": "f350a3c0-02d7-4270-9ca8-d7305935d69a"
      },
      "execution_count": 76,
      "outputs": [
        {
          "output_type": "stream",
          "name": "stdout",
          "text": [
            "   survived  pclass     sex   age     fare embarked  class  family_size  \\\n",
            "0         0       3    male  22.0   7.2500        S  Third            2   \n",
            "1         1       1  female  38.0  71.2833        C  First            2   \n",
            "2         1       3  female  26.0   7.9250        S  Third            1   \n",
            "3         1       1  female  35.0  53.1000        S  First            2   \n",
            "4         0       3    male  35.0   8.0500        S  Third            1   \n",
            "\n",
            "   isAlone  \n",
            "0        0  \n",
            "1        0  \n",
            "2        1  \n",
            "3        0  \n",
            "4        1  \n"
          ]
        }
      ]
    },
    {
      "cell_type": "markdown",
      "source": [
        "using encoding to get rid from catagorical data."
      ],
      "metadata": {
        "id": "Hd4Q7ol9djDd"
      }
    },
    {
      "cell_type": "code",
      "source": [
        "data_f['sex'] = data_f['sex'].map({'male':0,'female':1})#male = 0 and  female = 1\n",
        "print(data_f.head())"
      ],
      "metadata": {
        "colab": {
          "base_uri": "https://localhost:8080/"
        },
        "id": "8pYe_T64dtKz",
        "outputId": "05324b98-4f49-4c0f-b95a-c1489d6f5b48"
      },
      "execution_count": 77,
      "outputs": [
        {
          "output_type": "stream",
          "name": "stdout",
          "text": [
            "   survived  pclass  sex   age     fare embarked  class  family_size  isAlone\n",
            "0         0       3    0  22.0   7.2500        S  Third            2        0\n",
            "1         1       1    1  38.0  71.2833        C  First            2        0\n",
            "2         1       3    1  26.0   7.9250        S  Third            1        1\n",
            "3         1       1    1  35.0  53.1000        S  First            2        0\n",
            "4         0       3    0  35.0   8.0500        S  Third            1        1\n"
          ]
        }
      ]
    },
    {
      "cell_type": "code",
      "source": [
        "data_f['embarked'] = data_f['embarked'].map({'S':0,'C':1,'Q':2})\n",
        "print(data_f.head())"
      ],
      "metadata": {
        "colab": {
          "base_uri": "https://localhost:8080/"
        },
        "id": "dVGnJcc-eT8L",
        "outputId": "e0b511e6-190e-4609-deea-73462c2ba070"
      },
      "execution_count": 78,
      "outputs": [
        {
          "output_type": "stream",
          "name": "stdout",
          "text": [
            "   survived  pclass  sex   age     fare  embarked  class  family_size  isAlone\n",
            "0         0       3    0  22.0   7.2500         0  Third            2        0\n",
            "1         1       1    1  38.0  71.2833         1  First            2        0\n",
            "2         1       3    1  26.0   7.9250         0  Third            1        1\n",
            "3         1       1    1  35.0  53.1000         0  First            2        0\n",
            "4         0       3    0  35.0   8.0500         0  Third            1        1\n"
          ]
        }
      ]
    },
    {
      "cell_type": "code",
      "source": [
        "data_f['class'] = data_f['class'].map({'First':1,'Second':2,'Third':3})\n",
        "print(data_f.head())"
      ],
      "metadata": {
        "colab": {
          "base_uri": "https://localhost:8080/"
        },
        "id": "HB0fqUrIecHE",
        "outputId": "b68c6913-ad30-4414-9850-6dcea6a8c6e6"
      },
      "execution_count": 79,
      "outputs": [
        {
          "output_type": "stream",
          "name": "stdout",
          "text": [
            "   survived  pclass  sex   age     fare  embarked class  family_size  isAlone\n",
            "0         0       3    0  22.0   7.2500         0     3            2        0\n",
            "1         1       1    1  38.0  71.2833         1     1            2        0\n",
            "2         1       3    1  26.0   7.9250         0     3            1        1\n",
            "3         1       1    1  35.0  53.1000         0     1            2        0\n",
            "4         0       3    0  35.0   8.0500         0     3            1        1\n"
          ]
        }
      ]
    },
    {
      "cell_type": "markdown",
      "source": [
        "One-hot encoding."
      ],
      "metadata": {
        "id": "IfBxcle5eyRv"
      }
    },
    {
      "cell_type": "code",
      "source": [
        "data_f = pd.get_dummies(data_f,columns=['class','embarked'])\n",
        "print(data_f.head())"
      ],
      "metadata": {
        "colab": {
          "base_uri": "https://localhost:8080/"
        },
        "id": "nphdeHqSe1q6",
        "outputId": "0add782e-f756-4f51-c959-05ba2647bbb9"
      },
      "execution_count": 80,
      "outputs": [
        {
          "output_type": "stream",
          "name": "stdout",
          "text": [
            "   survived  pclass  sex   age     fare  family_size  isAlone  class_1  \\\n",
            "0         0       3    0  22.0   7.2500            2        0    False   \n",
            "1         1       1    1  38.0  71.2833            2        0     True   \n",
            "2         1       3    1  26.0   7.9250            1        1    False   \n",
            "3         1       1    1  35.0  53.1000            2        0     True   \n",
            "4         0       3    0  35.0   8.0500            1        1    False   \n",
            "\n",
            "   class_2  class_3  embarked_0  embarked_1  embarked_2  \n",
            "0    False     True        True       False       False  \n",
            "1    False    False       False        True       False  \n",
            "2    False     True        True       False       False  \n",
            "3    False    False        True       False       False  \n",
            "4    False     True        True       False       False  \n"
          ]
        }
      ]
    },
    {
      "cell_type": "markdown",
      "source": [
        "if the second class and the third class is false it will indicate the it's a first class passenger. that info is already there."
      ],
      "metadata": {
        "id": "snfpltXyfq8W"
      }
    },
    {
      "cell_type": "code",
      "source": [],
      "metadata": {
        "id": "7wZd5i3vfMfy"
      },
      "execution_count": null,
      "outputs": []
    }
  ]
}